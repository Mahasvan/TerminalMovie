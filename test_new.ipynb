{
 "cells": [
  {
   "cell_type": "code",
   "id": "initial_id",
   "metadata": {
    "collapsed": true,
    "ExecuteTime": {
     "end_time": "2025-02-26T07:54:28.288180Z",
     "start_time": "2025-02-26T07:54:28.229873Z"
    }
   },
   "source": "from processing.image_processing import Circle, ImageProcessor",
   "outputs": [],
   "execution_count": 1
  },
  {
   "metadata": {
    "ExecuteTime": {
     "end_time": "2025-02-26T08:01:51.153466Z",
     "start_time": "2025-02-26T08:01:51.150704Z"
    }
   },
   "cell_type": "code",
   "source": "processor = ImageProcessor(image_path=\"inputs/meteor.jpeg\")",
   "id": "83d6d44be24e76d2",
   "outputs": [],
   "execution_count": 10
  },
  {
   "metadata": {
    "ExecuteTime": {
     "end_time": "2025-02-26T08:02:04.245622Z",
     "start_time": "2025-02-26T08:01:51.545047Z"
    }
   },
   "cell_type": "code",
   "source": [
    "combined = processor.asciify(downsample=2)\n",
    "with open(\"combined.txt\", \"w\") as f:\n",
    "    for i in range(combined.shape[0]):\n",
    "        f.write(\"\".join(list(combined[i, :])))\n",
    "        f.write(\"\\n\")"
   ],
   "id": "b5caf03389de995d",
   "outputs": [
    {
     "name": "stdout",
     "output_type": "stream",
     "text": [
      "Calculated Sobel\n",
      "[25.5, 51.0, 76.5, 102.0, 127.5, 153.0, 178.5, 204.0, 229.5, 255.0]\n"
     ]
    }
   ],
   "execution_count": 11
  },
  {
   "metadata": {
    "ExecuteTime": {
     "end_time": "2025-02-26T07:56:03.776844Z",
     "start_time": "2025-02-26T07:56:03.145422Z"
    }
   },
   "cell_type": "code",
   "source": "edges = processor.edge_highlighting(downsample=4)",
   "id": "1bcfb5b13cba02c4",
   "outputs": [
    {
     "name": "stdout",
     "output_type": "stream",
     "text": [
      "Calculated Sobel\n"
     ]
    }
   ],
   "execution_count": 5
  },
  {
   "metadata": {
    "ExecuteTime": {
     "end_time": "2025-02-26T07:47:02.978703Z",
     "start_time": "2025-02-26T07:47:02.916310Z"
    }
   },
   "cell_type": "code",
   "source": [
    "with open(\"chars.txt\", \"w\") as f:\n",
    "    for i in range(edges.shape[0]):\n",
    "        f.write(\"\".join(list(edges[i, :])))\n",
    "        f.write(\"\\n\")"
   ],
   "id": "e0df66a62135e86b",
   "outputs": [],
   "execution_count": 4
  },
  {
   "metadata": {
    "ExecuteTime": {
     "end_time": "2025-02-26T07:47:03.345216Z",
     "start_time": "2025-02-26T07:47:02.985776Z"
    }
   },
   "cell_type": "code",
   "source": "intensities = processor.intensity_char_mapping(downsample=4)",
   "id": "84f9b9ec8d6d053c",
   "outputs": [
    {
     "name": "stdout",
     "output_type": "stream",
     "text": [
      "[25.5, 51.0, 76.5, 102.0, 127.5, 153.0, 178.5, 204.0, 229.5, 255.0]\n"
     ]
    }
   ],
   "execution_count": 5
  },
  {
   "metadata": {
    "ExecuteTime": {
     "end_time": "2025-02-26T07:47:03.408379Z",
     "start_time": "2025-02-26T07:47:03.350459Z"
    }
   },
   "cell_type": "code",
   "source": [
    "with open(\"intensity.txt\", \"w\") as f:\n",
    "    for i in range(intensities.shape[0]):\n",
    "        f.write(\"\".join(list(intensities[i, :])))\n",
    "        f.write(\"\\n\")"
   ],
   "id": "d54f75664e19815f",
   "outputs": [],
   "execution_count": 6
  },
  {
   "metadata": {
    "ExecuteTime": {
     "end_time": "2025-02-26T07:47:03.502810Z",
     "start_time": "2025-02-26T07:47:03.414292Z"
    }
   },
   "cell_type": "code",
   "source": [
    "for i in range(edges.shape[0]):\n",
    "    for j in range(edges.shape[1]):\n",
    "        if edges[i, j] != \"　\":\n",
    "            intensities[i, j] = edges[i,j]"
   ],
   "id": "33e913536f056e22",
   "outputs": [],
   "execution_count": 7
  },
  {
   "metadata": {
    "ExecuteTime": {
     "end_time": "2025-02-26T07:47:03.578017Z",
     "start_time": "2025-02-26T07:47:03.507573Z"
    }
   },
   "cell_type": "code",
   "source": [
    "with open(\"combined.txt\", \"w\") as f:\n",
    "    for i in range(intensities.shape[0]):\n",
    "        f.write(\"\".join(list(intensities[i, :])))\n",
    "        f.write(\"\\n\")"
   ],
   "id": "247fb884d0887894",
   "outputs": [],
   "execution_count": 8
  },
  {
   "metadata": {
    "ExecuteTime": {
     "end_time": "2025-02-26T07:58:38.875252Z",
     "start_time": "2025-02-26T07:58:27.246682Z"
    }
   },
   "cell_type": "code",
   "source": "",
   "id": "3c8bd3408dac9e53",
   "outputs": [
    {
     "name": "stdout",
     "output_type": "stream",
     "text": [
      "Calculated Sobel\n",
      "[25.5, 51.0, 76.5, 102.0, 127.5, 153.0, 178.5, 204.0, 229.5, 255.0]\n"
     ]
    }
   ],
   "execution_count": 9
  },
  {
   "metadata": {},
   "cell_type": "code",
   "outputs": [],
   "execution_count": null,
   "source": "",
   "id": "58a90edd30d9f11c"
  }
 ],
 "metadata": {
  "kernelspec": {
   "display_name": "Python 3",
   "language": "python",
   "name": "python3"
  },
  "language_info": {
   "codemirror_mode": {
    "name": "ipython",
    "version": 2
   },
   "file_extension": ".py",
   "mimetype": "text/x-python",
   "name": "python",
   "nbconvert_exporter": "python",
   "pygments_lexer": "ipython2",
   "version": "2.7.6"
  }
 },
 "nbformat": 4,
 "nbformat_minor": 5
}
