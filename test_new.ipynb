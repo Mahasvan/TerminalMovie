{
 "cells": [
  {
   "cell_type": "code",
   "id": "initial_id",
   "metadata": {
    "collapsed": true,
    "ExecuteTime": {
     "end_time": "2025-03-03T02:27:52.744567Z",
     "start_time": "2025-03-03T02:27:52.400371Z"
    }
   },
   "source": [
    "import numpy as np\n",
    "from processing.image_processing import ImageProcessor"
   ],
   "outputs": [],
   "execution_count": 2
  },
  {
   "metadata": {
    "ExecuteTime": {
     "end_time": "2025-03-03T02:36:41.856779Z",
     "start_time": "2025-03-03T02:36:41.850473Z"
    }
   },
   "cell_type": "code",
   "source": "processor = ImageProcessor(image_path=\"outputs/mitsuha-square-pool.png\")",
   "id": "83d6d44be24e76d2",
   "outputs": [],
   "execution_count": 18
  },
  {
   "metadata": {
    "ExecuteTime": {
     "end_time": "2025-03-03T02:36:42.020739Z",
     "start_time": "2025-03-03T02:36:42.018189Z"
    }
   },
   "cell_type": "code",
   "source": "DOWNSAMPLE = 1",
   "id": "29a4acc1cd1fedc6",
   "outputs": [],
   "execution_count": 19
  },
  {
   "metadata": {
    "ExecuteTime": {
     "end_time": "2025-03-03T02:36:16.145234Z",
     "start_time": "2025-03-03T02:36:09.730644Z"
    }
   },
   "cell_type": "code",
   "source": [
    "pool = processor.pooling(downsample=DOWNSAMPLE)\n",
    "from PIL import Image\n",
    "pool_img = Image.fromarray(pool)\n",
    "pool_img.save(\"outputs/mitsuha-square-pool-max.png\")"
   ],
   "id": "fcaf8dca1102e461",
   "outputs": [],
   "execution_count": 16
  },
  {
   "metadata": {
    "ExecuteTime": {
     "end_time": "2025-03-03T02:36:43.770773Z",
     "start_time": "2025-03-03T02:36:43.745296Z"
    }
   },
   "cell_type": "code",
   "source": [
    "edges = processor.edge_highlighting(downsample=DOWNSAMPLE)\n",
    "with open(\"outputs/chars.txt\", \"w\") as f:\n",
    "    for i in range(edges.shape[0]):\n",
    "        f.write(\"\".join(list(edges[i, :])))\n",
    "        f.write(\"\\n\")"
   ],
   "id": "5b383a11cf19ac6",
   "outputs": [],
   "execution_count": 20
  },
  {
   "metadata": {
    "ExecuteTime": {
     "end_time": "2025-03-03T02:36:44.325147Z",
     "start_time": "2025-03-03T02:36:44.134572Z"
    }
   },
   "cell_type": "code",
   "source": [
    "combined = processor.asciify(downsample=DOWNSAMPLE)\n",
    "with open(\"outputs/combined.txt\", \"w\") as f:\n",
    "    for i in range(combined.shape[0]):\n",
    "        f.write(\"\".join(list(combined[i, :])))\n",
    "        f.write(\"\\n\")"
   ],
   "id": "b5caf03389de995d",
   "outputs": [],
   "execution_count": 21
  },
  {
   "metadata": {
    "ExecuteTime": {
     "end_time": "2025-03-03T02:36:44.617690Z",
     "start_time": "2025-03-03T02:36:44.446705Z"
    }
   },
   "cell_type": "code",
   "source": [
    "intensities = processor.intensity_char_mapping(downsample=DOWNSAMPLE)\n",
    "with open(\"outputs/intensity.txt\", \"w\") as f:\n",
    "    for i in range(intensities.shape[0]):\n",
    "        f.write(\"\".join(list(intensities[i, :])))\n",
    "        f.write(\"\\n\")"
   ],
   "id": "84f9b9ec8d6d053c",
   "outputs": [],
   "execution_count": 22
  },
  {
   "metadata": {},
   "cell_type": "code",
   "outputs": [],
   "execution_count": null,
   "source": "",
   "id": "e25325d9fbffc5cd"
  }
 ],
 "metadata": {
  "kernelspec": {
   "display_name": "Python 3",
   "language": "python",
   "name": "python3"
  },
  "language_info": {
   "codemirror_mode": {
    "name": "ipython",
    "version": 2
   },
   "file_extension": ".py",
   "mimetype": "text/x-python",
   "name": "python",
   "nbconvert_exporter": "python",
   "pygments_lexer": "ipython2",
   "version": "2.7.6"
  }
 },
 "nbformat": 4,
 "nbformat_minor": 5
}
